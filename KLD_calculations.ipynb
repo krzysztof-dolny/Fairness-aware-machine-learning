{
 "cells": [
  {
   "cell_type": "markdown",
   "id": "a002d49d-36ad-4327-b843-f8bf0e7e6853",
   "metadata": {},
   "source": [
    "## Setting up environment with initial parameters"
   ]
  },
  {
   "cell_type": "code",
   "execution_count": 1,
   "id": "df7e0fdf-67ea-4210-9194-32336a216ef0",
   "metadata": {},
   "outputs": [],
   "source": [
    "import numpy as np\n",
    "import pandas as pd\n",
    "import csv\n",
    "import pyarrow as pa\n",
    "import pyarrow.parquet as pq\n",
    "import math\n",
    "import matplotlib.pyplot as plt\n",
    "import time\n",
    "import warnings"
   ]
  },
  {
   "cell_type": "code",
   "execution_count": 2,
   "id": "de52a58b-f079-43b7-9c75-d854fe71753b",
   "metadata": {},
   "outputs": [],
   "source": [
    "# Setting up initial arguments\n",
    "cm_file_path = \"output/confusion_matrix.parquet\""
   ]
  },
  {
   "cell_type": "markdown",
   "id": "3cce348a-f3b0-4b4a-89fe-ac9e8e0ea80e",
   "metadata": {},
   "source": [
    "## Loading confusion matrix combinations from file"
   ]
  },
  {
   "cell_type": "code",
   "execution_count": 3,
   "id": "3f2c7576-aee9-4ba8-bfbb-391cf6211c1d",
   "metadata": {},
   "outputs": [],
   "source": [
    "def load_parquet_confusion_matrix(file_path):\n",
    "    return pd.read_parquet(file_path, engine='pyarrow')"
   ]
  },
  {
   "cell_type": "code",
   "execution_count": 4,
   "id": "3c3660d1-327b-4348-abe1-67676e5cf41c",
   "metadata": {},
   "outputs": [
    {
     "name": "stdout",
     "output_type": "stream",
     "text": [
      "Shape of DataFrame: (6724520, 8)\n",
      "   0  1  2  3  4  5  6   7\n",
      "0  0  0  0  0  0  0  0  28\n",
      "1  0  0  0  0  0  0  1  27\n",
      "2  0  0  0  0  0  0  2  26\n",
      "3  0  0  0  0  0  0  3  25\n",
      "4  0  0  0  0  0  0  4  24\n"
     ]
    }
   ],
   "source": [
    "# Loading data from parquet file\n",
    "cm_df = load_parquet_confusion_matrix(cm_file_path)\n",
    "\n",
    "print(f\"Shape of DataFrame: {cm_df.shape}\")\n",
    "print(cm_df.head())"
   ]
  },
  {
   "cell_type": "markdown",
   "id": "6c38eae0-95cd-48e0-8328-bb310dd2ae81",
   "metadata": {},
   "source": [
    "## Kullback-Leibler Divergence"
   ]
  },
  {
   "cell_type": "code",
   "execution_count": 5,
   "id": "f5543da6-9448-423b-9529-1f1415665507",
   "metadata": {},
   "outputs": [],
   "source": [
    "# {TPp, FNp, FPp, TNp, TPup, FNup, FPup, TNup}\n",
    "def kullback_leibler_divergence_row(row):\n",
    "    P = np.array([(row[0] + row[2]) / (row[0] + row[1] + row[2] + row[3]),\n",
    "                  (row[1] + row[3]) / (row[0] + row[1] + row[2] + row[3])])\n",
    "    Q = np.array([(row[4] + row[6]) / (row[4] + row[5] + row[6] + row[7]),\n",
    "                  (row[5] + row[7]) / (row[4] + row[5] + row[6] + row[7])])\n",
    "    \n",
    "    kld = np.sum(P * np.log(P / Q))\n",
    "    \n",
    "    return kld"
   ]
  },
  {
   "cell_type": "code",
   "execution_count": 6,
   "id": "1810dacc-90de-4079-8c0e-6526af044960",
   "metadata": {},
   "outputs": [],
   "source": [
    "# Calculating kullback leibler divergence\n",
    "# Turn off warnings becouse of division by 0\n",
    "with warnings.catch_warnings():\n",
    "    warnings.simplefilter(\"ignore\")\n",
    "    cm_df['kld'] = cm_df.apply(kullback_leibler_divergence_row, axis=1)"
   ]
  },
  {
   "cell_type": "markdown",
   "id": "69938218-94f3-448e-ac4f-0ae01260ac04",
   "metadata": {},
   "source": [
    "## Vizualizations for KLD"
   ]
  },
  {
   "cell_type": "code",
   "execution_count": 7,
   "id": "9850b404-2659-4413-9273-255722c2fadc",
   "metadata": {},
   "outputs": [
    {
     "name": "stdout",
     "output_type": "stream",
     "text": [
      "Number of NaN values: 474614\n",
      "Number of inf values: 447876\n"
     ]
    },
    {
     "data": {
      "image/png": "[encoded data removed]",
      "text/plain": [
       "<Figure size 500x300 with 1 Axes>"
      ]
     },
     "metadata": {},
     "output_type": "display_data"
    }
   ],
   "source": [
    "# NaN values handling\n",
    "kld_nan = cm_df['kld'].isna().sum()\n",
    "cm_df['kld'].dropna(inplace=True)\n",
    "print(f\"Number of NaN values: {kld_nan}\")\n",
    "\n",
    "# Inf values handling\n",
    "kld_inf = np.isinf(cm_df['kld']).sum()\n",
    "cm_df = cm_df[~np.isinf(cm_df['kld'])]\n",
    "print(f\"Number of inf values: {kld_inf}\")\n",
    "\n",
    "weights = np.ones_like(cm_df['kld']) / len(cm_df['kld'])\n",
    "\n",
    "plt.figure(figsize=(5, 3))\n",
    "plt.hist(cm_df['kld'], bins=51, color='black', edgecolor='black', alpha=0.7, weights=weights)\n",
    "plt.title(\"Histogram\", fontsize=14)\n",
    "plt.xlabel(\"Value of measure f\", fontsize=12)\n",
    "plt.ylabel(\"Probability\", fontsize=12)\n",
    "plt.show()"
   ]
  },
  {
   "cell_type": "code",
   "execution_count": 8,
   "id": "d7e5c583-3172-4d49-a50f-570e90521aee",
   "metadata": {},
   "outputs": [
    {
     "name": "stdout",
     "output_type": "stream",
     "text": [
      "0       0.000000\n",
      "1       0.000000\n",
      "2       1.000000\n",
      "3       9.000000\n",
      "4       0.000000\n",
      "5       0.000000\n",
      "6      17.000000\n",
      "7       1.000000\n",
      "kld     2.281967\n",
      "Name: 60127, dtype: float64\n"
     ]
    }
   ],
   "source": [
    "# Print confusion matrix with maximum KLD value\n",
    "print(cm_df.loc[cm_df['kld'].idxmax()])"
   ]
  },
  {
   "cell_type": "markdown",
   "id": "3ca29c3b-20ac-4aa0-b6c9-5d5f655ea7a8",
   "metadata": {},
   "source": [
    "# Calculating IR and GR"
   ]
  },
  {
   "cell_type": "code",
   "execution_count": 9,
   "id": "732508ee-3c37-4e60-8024-cdfdf42f4db5",
   "metadata": {},
   "outputs": [],
   "source": [
    "def get_imbalance_ratio(df):\n",
    "    return (df[0] + df[1] + df[4] + df[5]) / (df[0] + df[1] + df[2] + df[3] + df[4] + df[5] + df[6] + df[7])"
   ]
  },
  {
   "cell_type": "code",
   "execution_count": 10,
   "id": "6c305046-b8e1-4b5b-b16a-83cba25f6554",
   "metadata": {},
   "outputs": [],
   "source": [
    "def get_group_ratio(df):\n",
    "    return (df[0] + df[1] + df[2] + df[3]) / (df[0] + df[1] + df[2] + df[3] + df[4] + df[5] + df[6] + df[7])"
   ]
  },
  {
   "cell_type": "code",
   "execution_count": 11,
   "id": "5ccb5874-9079-41d0-a5a9-78a63d588410",
   "metadata": {},
   "outputs": [
    {
     "data": {
      "text/html": [
       "<div>\n",
       "<style scoped>\n",
       "    .dataframe tbody tr th:only-of-type {\n",
       "        vertical-align: middle;\n",
       "    }\n",
       "\n",
       "    .dataframe tbody tr th {\n",
       "        vertical-align: top;\n",
       "    }\n",
       "\n",
       "    .dataframe thead th {\n",
       "        text-align: right;\n",
       "    }\n",
       "</style>\n",
       "<table border=\"1\" class=\"dataframe\">\n",
       "  <thead>\n",
       "    <tr style=\"text-align: right;\">\n",
       "      <th></th>\n",
       "      <th>0</th>\n",
       "      <th>1</th>\n",
       "      <th>2</th>\n",
       "      <th>3</th>\n",
       "      <th>4</th>\n",
       "      <th>5</th>\n",
       "      <th>6</th>\n",
       "      <th>7</th>\n",
       "      <th>kld</th>\n",
       "      <th>IR</th>\n",
       "      <th>GR</th>\n",
       "    </tr>\n",
       "  </thead>\n",
       "  <tbody>\n",
       "    <tr>\n",
       "      <th>0</th>\n",
       "      <td>0</td>\n",
       "      <td>0</td>\n",
       "      <td>0</td>\n",
       "      <td>0</td>\n",
       "      <td>0</td>\n",
       "      <td>0</td>\n",
       "      <td>0</td>\n",
       "      <td>28</td>\n",
       "      <td>NaN</td>\n",
       "      <td>0.000000</td>\n",
       "      <td>0.000000</td>\n",
       "    </tr>\n",
       "    <tr>\n",
       "      <th>1</th>\n",
       "      <td>0</td>\n",
       "      <td>0</td>\n",
       "      <td>0</td>\n",
       "      <td>0</td>\n",
       "      <td>0</td>\n",
       "      <td>0</td>\n",
       "      <td>1</td>\n",
       "      <td>27</td>\n",
       "      <td>NaN</td>\n",
       "      <td>0.000000</td>\n",
       "      <td>0.000000</td>\n",
       "    </tr>\n",
       "    <tr>\n",
       "      <th>2</th>\n",
       "      <td>0</td>\n",
       "      <td>0</td>\n",
       "      <td>0</td>\n",
       "      <td>0</td>\n",
       "      <td>0</td>\n",
       "      <td>0</td>\n",
       "      <td>2</td>\n",
       "      <td>26</td>\n",
       "      <td>NaN</td>\n",
       "      <td>0.000000</td>\n",
       "      <td>0.000000</td>\n",
       "    </tr>\n",
       "    <tr>\n",
       "      <th>3</th>\n",
       "      <td>0</td>\n",
       "      <td>0</td>\n",
       "      <td>0</td>\n",
       "      <td>0</td>\n",
       "      <td>0</td>\n",
       "      <td>0</td>\n",
       "      <td>3</td>\n",
       "      <td>25</td>\n",
       "      <td>NaN</td>\n",
       "      <td>0.000000</td>\n",
       "      <td>0.000000</td>\n",
       "    </tr>\n",
       "    <tr>\n",
       "      <th>4</th>\n",
       "      <td>0</td>\n",
       "      <td>0</td>\n",
       "      <td>0</td>\n",
       "      <td>0</td>\n",
       "      <td>0</td>\n",
       "      <td>0</td>\n",
       "      <td>4</td>\n",
       "      <td>24</td>\n",
       "      <td>NaN</td>\n",
       "      <td>0.000000</td>\n",
       "      <td>0.000000</td>\n",
       "    </tr>\n",
       "    <tr>\n",
       "      <th>...</th>\n",
       "      <td>...</td>\n",
       "      <td>...</td>\n",
       "      <td>...</td>\n",
       "      <td>...</td>\n",
       "      <td>...</td>\n",
       "      <td>...</td>\n",
       "      <td>...</td>\n",
       "      <td>...</td>\n",
       "      <td>...</td>\n",
       "      <td>...</td>\n",
       "      <td>...</td>\n",
       "    </tr>\n",
       "    <tr>\n",
       "      <th>6724515</th>\n",
       "      <td>27</td>\n",
       "      <td>0</td>\n",
       "      <td>0</td>\n",
       "      <td>0</td>\n",
       "      <td>1</td>\n",
       "      <td>0</td>\n",
       "      <td>0</td>\n",
       "      <td>0</td>\n",
       "      <td>NaN</td>\n",
       "      <td>1.000000</td>\n",
       "      <td>0.964286</td>\n",
       "    </tr>\n",
       "    <tr>\n",
       "      <th>6724516</th>\n",
       "      <td>27</td>\n",
       "      <td>0</td>\n",
       "      <td>0</td>\n",
       "      <td>1</td>\n",
       "      <td>0</td>\n",
       "      <td>0</td>\n",
       "      <td>0</td>\n",
       "      <td>0</td>\n",
       "      <td>NaN</td>\n",
       "      <td>0.964286</td>\n",
       "      <td>1.000000</td>\n",
       "    </tr>\n",
       "    <tr>\n",
       "      <th>6724517</th>\n",
       "      <td>27</td>\n",
       "      <td>0</td>\n",
       "      <td>1</td>\n",
       "      <td>0</td>\n",
       "      <td>0</td>\n",
       "      <td>0</td>\n",
       "      <td>0</td>\n",
       "      <td>0</td>\n",
       "      <td>NaN</td>\n",
       "      <td>0.964286</td>\n",
       "      <td>1.000000</td>\n",
       "    </tr>\n",
       "    <tr>\n",
       "      <th>6724518</th>\n",
       "      <td>27</td>\n",
       "      <td>1</td>\n",
       "      <td>0</td>\n",
       "      <td>0</td>\n",
       "      <td>0</td>\n",
       "      <td>0</td>\n",
       "      <td>0</td>\n",
       "      <td>0</td>\n",
       "      <td>NaN</td>\n",
       "      <td>1.000000</td>\n",
       "      <td>1.000000</td>\n",
       "    </tr>\n",
       "    <tr>\n",
       "      <th>6724519</th>\n",
       "      <td>28</td>\n",
       "      <td>0</td>\n",
       "      <td>0</td>\n",
       "      <td>0</td>\n",
       "      <td>0</td>\n",
       "      <td>0</td>\n",
       "      <td>0</td>\n",
       "      <td>0</td>\n",
       "      <td>NaN</td>\n",
       "      <td>1.000000</td>\n",
       "      <td>1.000000</td>\n",
       "    </tr>\n",
       "  </tbody>\n",
       "</table>\n",
       "<p>6276644 rows × 11 columns</p>\n",
       "</div>"
      ],
      "text/plain": [
       "          0  1  2  3  4  5  6   7  kld        IR        GR\n",
       "0         0  0  0  0  0  0  0  28  NaN  0.000000  0.000000\n",
       "1         0  0  0  0  0  0  1  27  NaN  0.000000  0.000000\n",
       "2         0  0  0  0  0  0  2  26  NaN  0.000000  0.000000\n",
       "3         0  0  0  0  0  0  3  25  NaN  0.000000  0.000000\n",
       "4         0  0  0  0  0  0  4  24  NaN  0.000000  0.000000\n",
       "...      .. .. .. .. .. .. ..  ..  ...       ...       ...\n",
       "6724515  27  0  0  0  1  0  0   0  NaN  1.000000  0.964286\n",
       "6724516  27  0  0  1  0  0  0   0  NaN  0.964286  1.000000\n",
       "6724517  27  0  1  0  0  0  0   0  NaN  0.964286  1.000000\n",
       "6724518  27  1  0  0  0  0  0   0  NaN  1.000000  1.000000\n",
       "6724519  28  0  0  0  0  0  0   0  NaN  1.000000  1.000000\n",
       "\n",
       "[6276644 rows x 11 columns]"
      ]
     },
     "execution_count": 11,
     "metadata": {},
     "output_type": "execute_result"
    }
   ],
   "source": [
    "cm_df['IR'] = get_imbalance_ratio(cm_df)\n",
    "cm_df['GR'] = get_group_ratio(cm_df)\n",
    "cm_df"
   ]
  },
  {
   "cell_type": "markdown",
   "id": "6a88c6b1-74d2-4767-86b3-d28f1adf713a",
   "metadata": {},
   "source": [
    "## KLD  for specific IR (GR = 1/2)"
   ]
  },
  {
   "cell_type": "code",
   "execution_count": 12,
   "id": "390775a7-b5f9-4bf1-96c5-8f0c52b69e38",
   "metadata": {},
   "outputs": [
    {
     "name": "stdout",
     "output_type": "stream",
     "text": [
      "Total rows selected: 762, Rows with NaN values: 86\n"
     ]
    }
   ],
   "source": [
    "# KLD for IR = 27/28 and GR = 1/2 \n",
    "kld_selected = cm_df.loc[(cm_df['IR'] == 27/28) & (cm_df['GR'] == 1/2), ['kld']]\n",
    "\n",
    "print(f\"Total rows selected: {len(kld_selected)}, Rows with NaN values: {kld_selected['kld'].isna().sum()}\")"
   ]
  },
  {
   "cell_type": "code",
   "execution_count": 20,
   "id": "ed50880a-20a3-4fa7-9d10-c025f06f637e",
   "metadata": {},
   "outputs": [
    {
     "data": {
      "image/png": "[encoded data removed]",
      "text/plain": [
       "<Figure size 500x300 with 1 Axes>"
      ]
     },
     "metadata": {},
     "output_type": "display_data"
    }
   ],
   "source": [
    "# Histogram of KLD values for IR = 27/28 and GR = 1/2\n",
    "weights = np.ones_like(kld_selected) / len(kld_selected)\n",
    "\n",
    "plt.figure(figsize=(5, 3))\n",
    "plt.hist(kld_selected, bins=50, color='black', edgecolor='black', alpha=0.7, weights=weights)\n",
    "plt.xlim(0, 2.5)\n",
    "plt.title(\"Histogram\", fontsize=14)\n",
    "plt.xlabel(\"Value of measure f\", fontsize=12)\n",
    "plt.ylabel(\"Probability\", fontsize=12)\n",
    "plt.show()"
   ]
  },
  {
   "cell_type": "code",
   "execution_count": 14,
   "id": "0608e74b-305e-4db4-bf61-5a2dcd7e05b1",
   "metadata": {},
   "outputs": [
    {
     "name": "stdout",
     "output_type": "stream",
     "text": [
      "Total rows selected: 14696, Rows with NaN values: 744\n"
     ]
    }
   ],
   "source": [
    "# KLD for IR = 21/28 and GR = 1/2 \n",
    "kld_selected = cm_df.loc[(cm_df['IR'] == 21/28) & (cm_df['GR'] == 1/2), ['kld']]\n",
    "\n",
    "print(f\"Total rows selected: {len(kld_selected)}, Rows with NaN values: {kld_selected['kld'].isna().sum()}\")"
   ]
  },
  {
   "cell_type": "code",
   "execution_count": 21,
   "id": "88844f22-7475-4136-9dd1-92c9973976b7",
   "metadata": {},
   "outputs": [
    {
     "data": {
      "image/png": "[encoded data removed]",
      "text/plain": [
       "<Figure size 500x300 with 1 Axes>"
      ]
     },
     "metadata": {},
     "output_type": "display_data"
    }
   ],
   "source": [
    "# Histogram of KLD values for IR = 21/28 and GR = 1/2\n",
    "weights = np.ones_like(kld_selected) / len(kld_selected)\n",
    "\n",
    "plt.figure(figsize=(5, 3))\n",
    "plt.hist(kld_selected, bins=50, color='black', edgecolor='black', alpha=0.7, weights=weights)\n",
    "plt.xlim(0, 2.5)\n",
    "plt.title(\"Histogram\", fontsize=14)\n",
    "plt.xlabel(\"Value of measure f\", fontsize=12)\n",
    "plt.ylabel(\"Probability\", fontsize=12)\n",
    "plt.show()"
   ]
  },
  {
   "cell_type": "markdown",
   "id": "46b3cf6f-9ede-4721-82fd-8bb5f3a89b44",
   "metadata": {},
   "source": [
    "## KLD for specific GR (IR = 1/2)"
   ]
  },
  {
   "cell_type": "code",
   "execution_count": 16,
   "id": "1c186ad0-7bf0-41de-8230-02f747fc21d1",
   "metadata": {},
   "outputs": [
    {
     "name": "stdout",
     "output_type": "stream",
     "text": [
      "Total rows selected: 13408, Rows with NaN values: 240\n"
     ]
    }
   ],
   "source": [
    "# KLD for IR = 1/2 and GR = 21/28\n",
    "kld_selected = cm_df.loc[(cm_df['IR'] == 1/2) & (cm_df['GR'] == 21/28), ['kld']]\n",
    "\n",
    "print(f\"Total rows selected: {len(kld_selected)}, Rows with NaN values: {kld_selected['kld'].isna().sum()}\")"
   ]
  },
  {
   "cell_type": "code",
   "execution_count": 22,
   "id": "cc36f4de-db9b-4733-815a-ae4566380700",
   "metadata": {},
   "outputs": [
    {
     "data": {
      "image/png": "[encoded data removed]",
      "text/plain": [
       "<Figure size 500x300 with 1 Axes>"
      ]
     },
     "metadata": {},
     "output_type": "display_data"
    }
   ],
   "source": [
    "# Histogram of KLD values for IR = 1/2 and GR = 21/28\n",
    "weights = np.ones_like(kld_selected) / len(kld_selected)\n",
    "\n",
    "plt.figure(figsize=(5, 3))\n",
    "plt.hist(kld_selected, bins=50, color='black', edgecolor='black', alpha=0.7, weights=weights)\n",
    "plt.xlim(0, 2.5)\n",
    "plt.title(\"Histogram\", fontsize=14)\n",
    "plt.xlabel(\"Value of measure f\", fontsize=12)\n",
    "plt.ylabel(\"Probability\", fontsize=12)\n",
    "plt.show()"
   ]
  },
  {
   "cell_type": "code",
   "execution_count": 18,
   "id": "1878c474-09da-4b3a-af19-a0f3041d3a39",
   "metadata": {},
   "outputs": [
    {
     "name": "stdout",
     "output_type": "stream",
     "text": [
      "Total rows selected: 15200, Rows with NaN values: 2032\n"
     ]
    }
   ],
   "source": [
    "# KLD for IR = 1/2 and GR = 7/28\n",
    "kld_selected = cm_df.loc[(cm_df['IR'] == 1/2) & (cm_df['GR'] == 7/28), ['kld']]\n",
    "\n",
    "print(f\"Total rows selected: {len(kld_selected)}, Rows with NaN values: {kld_selected['kld'].isna().sum()}\")"
   ]
  },
  {
   "cell_type": "code",
   "execution_count": 23,
   "id": "03e15f78-a00c-46c1-aff4-d0894eda5926",
   "metadata": {},
   "outputs": [
    {
     "data": {
      "image/png": "[encoded data removed]",
      "text/plain": [
       "<Figure size 500x300 with 1 Axes>"
      ]
     },
     "metadata": {},
     "output_type": "display_data"
    }
   ],
   "source": [
    "# Histogram of KLD values for IR = 1/2 and GR = 7/28\n",
    "weights = np.ones_like(kld_selected) / len(kld_selected)\n",
    "\n",
    "plt.figure(figsize=(5, 3))\n",
    "plt.hist(kld_selected, bins=50, color='black', edgecolor='black', alpha=0.7, weights=weights)\n",
    "plt.xlim(0, 2.5)\n",
    "plt.title(\"Histogram\", fontsize=14)\n",
    "plt.xlabel(\"Value of measure f\", fontsize=12)\n",
    "plt.ylabel(\"Probability\", fontsize=12)\n",
    "plt.show()"
   ]
  },
  {
   "cell_type": "markdown",
   "id": "64685151-585c-4592-bc68-8a9244402912",
   "metadata": {},
   "source": [
    "## Memory realese"
   ]
  },
  {
   "cell_type": "code",
   "execution_count": null,
   "id": "34292680-4873-4b51-8f47-a82e89e6607b",
   "metadata": {},
   "outputs": [],
   "source": [
    "del cm_df"
   ]
  },
  {
   "cell_type": "code",
   "execution_count": null,
   "id": "890e17d6-7324-4e44-a4cd-24073dbce401",
   "metadata": {},
   "outputs": [],
   "source": []
  }
 ],
 "metadata": {
  "kernelspec": {
   "display_name": "afenv",
   "language": "python",
   "name": "afenv"
  },
  "language_info": {
   "codemirror_mode": {
    "name": "ipython",
    "version": 3
   },
   "file_extension": ".py",
   "mimetype": "text/x-python",
   "name": "python",
   "nbconvert_exporter": "python",
   "pygments_lexer": "ipython3",
   "version": "3.12.2"
  }
 },
 "nbformat": 4,
 "nbformat_minor": 5
}
