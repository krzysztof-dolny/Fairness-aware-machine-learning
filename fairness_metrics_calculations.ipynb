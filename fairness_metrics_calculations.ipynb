{
 "cells": [
  {
   "cell_type": "markdown",
   "id": "aac3ba10-9be1-4215-894d-c6945741a2b6",
   "metadata": {},
   "source": [
    "## Setting up environment with initial parameters"
   ]
  },
  {
   "cell_type": "code",
   "execution_count": 25,
   "id": "19ecb7ce-d348-42df-a528-f33e32be1f43",
   "metadata": {},
   "outputs": [],
   "source": [
    "import torch\n",
    "import numpy as np\n",
    "import pandas as pd\n",
    "import csv\n",
    "import pyarrow as pa\n",
    "import pyarrow.parquet as pq\n",
    "import math\n",
    "import matplotlib.pyplot as plt\n",
    "import time"
   ]
  },
  {
   "cell_type": "code",
   "execution_count": 26,
   "id": "3e55a5e2-9412-4f9f-ae45-f19c2a685349",
   "metadata": {},
   "outputs": [
    {
     "name": "stdout",
     "output_type": "stream",
     "text": [
      "Using device: cuda\n"
     ]
    }
   ],
   "source": [
    "device = torch.device('cuda' if torch.cuda.is_available() else 'cpu')\n",
    "\n",
    "print(f\"Using device: {device}\")"
   ]
  },
  {
   "cell_type": "code",
   "execution_count": 27,
   "id": "b168f5e5-bad1-42a9-bf50-c27aa7f46ec9",
   "metadata": {},
   "outputs": [],
   "source": [
    "n = 28\n",
    "k = 8\n",
    "cm_file_path = \"output/confusion_matrix.parquet\""
   ]
  },
  {
   "cell_type": "markdown",
   "id": "b09953c9-7c34-4435-bd5c-51b14ce87fce",
   "metadata": {},
   "source": [
    "## Loading confusion matrix combinations from file"
   ]
  },
  {
   "cell_type": "code",
   "execution_count": 28,
   "id": "d8a0f2c0-888c-4f69-bf7a-a3dea684e51c",
   "metadata": {},
   "outputs": [],
   "source": [
    "def load_parquet_confusion_matrix(file_path):\n",
    "    return pd.read_parquet(file_path, engine='pyarrow')"
   ]
  },
  {
   "cell_type": "code",
   "execution_count": 29,
   "id": "df52c2b3-7cc1-45bb-b40d-bc19b583ddc2",
   "metadata": {},
   "outputs": [
    {
     "name": "stdout",
     "output_type": "stream",
     "text": [
      "Shape of DataFrame: (6724520, 8)\n",
      "   0  1  2  3  4  5  6   7\n",
      "0  0  0  0  0  0  0  0  28\n",
      "1  0  0  0  0  0  0  1  27\n",
      "2  0  0  0  0  0  0  2  26\n",
      "3  0  0  0  0  0  0  3  25\n",
      "4  0  0  0  0  0  0  4  24\n"
     ]
    }
   ],
   "source": [
    "# Loading data from parquet file\n",
    "cm_df = load_parquet_confusion_matrix(cm_file_path)\n",
    "\n",
    "print(f\"Shape of DataFrame: {cm_df.shape}\")\n",
    "print(cm_df.head())"
   ]
  },
  {
   "cell_type": "markdown",
   "id": "2699cd8f-03a0-421a-a2fc-1c18e57e3e8a",
   "metadata": {},
   "source": [
    "## Functions for fairness calculations"
   ]
  },
  {
   "cell_type": "code",
   "execution_count": 30,
   "id": "36966f53-5a54-415e-ab51-a13ad70924b7",
   "metadata": {},
   "outputs": [],
   "source": [
    "# Calculating number of confusion matrix combinations from formula \n",
    "def calculate_num_of_cm_combinations():\n",
    "    C = [n + k - 1, k - 1]\n",
    "    num_combinations = math.factorial(C[0]) / (math.factorial(C[1]) * math.factorial(C[0] - C[1]))\n",
    "    return int(num_combinations)"
   ]
  },
  {
   "cell_type": "code",
   "execution_count": 31,
   "id": "a457aa27-fde4-4780-92c3-68216967877b",
   "metadata": {},
   "outputs": [],
   "source": [
    "def get_imbalance_ratio(df):\n",
    "    return (df[0] + df[1] + df[4] + df[5]) / (df[0] + df[1] + df[2] + df[3] + df[4] + df[5] + df[6] + df[7])"
   ]
  },
  {
   "cell_type": "code",
   "execution_count": 32,
   "id": "dcd8d818-4f67-48f2-8a54-88ad4445d4ef",
   "metadata": {},
   "outputs": [],
   "source": [
    "def get_group_ratio(df):\n",
    "    return (df[0] + df[1] + df[2] + df[3]) / (df[0] + df[1] + df[2] + df[3] + df[4] + df[5] + df[6] + df[7])"
   ]
  },
  {
   "cell_type": "code",
   "execution_count": 33,
   "id": "075a1f78-80ce-40f5-942d-bce8949c93b1",
   "metadata": {},
   "outputs": [],
   "source": [
    "def calculate_accuracy_equality(df):\n",
    "    return ((df[0] + df[3]) / (df[0] + df[1] + df[2] + df[3])) - ((df[4] + df[7]) / (df[4] + df[5] + df[6] + df[7]))"
   ]
  },
  {
   "cell_type": "markdown",
   "id": "1ae0dbbd-01eb-40a3-9483-80c06b60b777",
   "metadata": {},
   "source": [
    "## Sample fairness calculations"
   ]
  },
  {
   "cell_type": "code",
   "execution_count": 34,
   "id": "312816f2-9699-406f-8292-0d0e261afa26",
   "metadata": {},
   "outputs": [
    {
     "name": "stdout",
     "output_type": "stream",
     "text": [
      "Number of possible matrix = 6724520\n",
      "Accuracy equality = -0.35555555555555557\n",
      "IR = 0.5714285714285714\n",
      "GR = 0.35714285714285715\n"
     ]
    }
   ],
   "source": [
    "# {TPp, FNp, FPp, TNp, TPup, FNup, FPup, TNup }\n",
    "df = cm_df.iloc[1000000].values.flatten()\n",
    "\n",
    "num_combinations = calculate_num_of_cm_combinations()\n",
    "acc_eq = calculate_accuracy_equality(df)\n",
    "ir = get_imbalance_ratio(df)\n",
    "gr = get_group_ratio(df)\n",
    "\n",
    "print(f\"Number of possible matrix = {num_combinations}\")\n",
    "print(f\"Accuracy equality = {acc_eq}\")\n",
    "print(f\"IR = {ir}\")\n",
    "print(f\"GR = {gr}\")"
   ]
  },
  {
   "cell_type": "markdown",
   "id": "7583ed37-817c-4a9e-89df-07eb40e189b8",
   "metadata": {},
   "source": [
    "## Histogram for all matrix combinations"
   ]
  },
  {
   "cell_type": "code",
   "execution_count": 35,
   "id": "7f05da8a-7f5d-4c96-a87a-1c5a8dbc24e1",
   "metadata": {},
   "outputs": [
    {
     "name": "stdout",
     "output_type": "stream",
     "text": [
      "<class 'pandas.core.series.Series'>\n",
      "0          NaN\n",
      "1          NaN\n",
      "2          NaN\n",
      "3          NaN\n",
      "4          NaN\n",
      "          ... \n",
      "6724515    0.0\n",
      "6724516    NaN\n",
      "6724517    NaN\n",
      "6724518    NaN\n",
      "6724519    NaN\n",
      "Length: 6724520, dtype: float64\n"
     ]
    }
   ],
   "source": [
    "# Calculating accuracy equality for histogram\n",
    "acc_eq_df = calculate_accuracy_equality(cm_df)\n",
    "print(type(acc_eq_df))\n",
    "print(acc_eq_df)"
   ]
  },
  {
   "cell_type": "code",
   "execution_count": 36,
   "id": "2b5d3eb4-0431-4ab5-a2c1-38e57d310e78",
   "metadata": {},
   "outputs": [
    {
     "name": "stdout",
     "output_type": "stream",
     "text": [
      "Number of NaN values: 8990\n"
     ]
    }
   ],
   "source": [
    "# Calculating number of NaN values\n",
    "acc_eq_nan = acc_eq_df.isna().sum()\n",
    "print(f\"Number of NaN values: {acc_eq_nan}\")"
   ]
  },
  {
   "cell_type": "code",
   "execution_count": 37,
   "id": "85d02598-90bd-4dbf-a33f-f5280d0cf2af",
   "metadata": {},
   "outputs": [
    {
     "name": "stdout",
     "output_type": "stream",
     "text": [
      "4495       0.000000\n",
      "4496       0.037037\n",
      "4497       0.074074\n",
      "4498       0.111111\n",
      "4499       0.148148\n",
      "             ...   \n",
      "6724508   -0.037037\n",
      "6724512    0.000000\n",
      "6724513    1.000000\n",
      "6724514    1.000000\n",
      "6724515    0.000000\n",
      "Length: 6715530, dtype: float64\n"
     ]
    }
   ],
   "source": [
    "# Drop NaN values\n",
    "acc_eq_df.dropna(inplace=True)\n",
    "print(acc_eq_df)"
   ]
  },
  {
   "cell_type": "code",
   "execution_count": 38,
   "id": "4fd44e06-1ae7-4fd7-8c24-74c208e5642d",
   "metadata": {},
   "outputs": [
    {
     "data": {
      "image/png": "[encoded data removed]",
      "text/plain": [
       "<Figure size 500x300 with 1 Axes>"
      ]
     },
     "metadata": {},
     "output_type": "display_data"
    }
   ],
   "source": [
    "# Plot histogram with probabilities\n",
    "weights = np.ones_like(acc_eq_df) / len(acc_eq_df)\n",
    "\n",
    "plt.figure(figsize=(5, 3))\n",
    "plt.hist(acc_eq_df, bins=101, color='black', edgecolor='black', alpha=0.7, weights=weights)\n",
    "plt.title(\"Histogram\", fontsize=14)\n",
    "plt.xlabel(\"Value of measure f\", fontsize=12)\n",
    "plt.ylabel(\"Probability\", fontsize=12)\n",
    "plt.show()"
   ]
  },
  {
   "cell_type": "markdown",
   "id": "472219f7-8e00-4291-89b9-a0ce0b5d2feb",
   "metadata": {},
   "source": [
    "## Histograms for specific IR and GR"
   ]
  },
  {
   "cell_type": "code",
   "execution_count": 39,
   "id": "b0495529-714e-4d1a-9915-273ff5d1b00d",
   "metadata": {},
   "outputs": [
    {
     "data": {
      "text/html": [
       "<div>\n",
       "<style scoped>\n",
       "    .dataframe tbody tr th:only-of-type {\n",
       "        vertical-align: middle;\n",
       "    }\n",
       "\n",
       "    .dataframe tbody tr th {\n",
       "        vertical-align: top;\n",
       "    }\n",
       "\n",
       "    .dataframe thead th {\n",
       "        text-align: right;\n",
       "    }\n",
       "</style>\n",
       "<table border=\"1\" class=\"dataframe\">\n",
       "  <thead>\n",
       "    <tr style=\"text-align: right;\">\n",
       "      <th></th>\n",
       "      <th>0</th>\n",
       "      <th>1</th>\n",
       "      <th>2</th>\n",
       "      <th>3</th>\n",
       "      <th>4</th>\n",
       "      <th>5</th>\n",
       "      <th>6</th>\n",
       "      <th>7</th>\n",
       "      <th>IR</th>\n",
       "      <th>GR</th>\n",
       "      <th>acc_eq</th>\n",
       "    </tr>\n",
       "  </thead>\n",
       "  <tbody>\n",
       "    <tr>\n",
       "      <th>0</th>\n",
       "      <td>0</td>\n",
       "      <td>0</td>\n",
       "      <td>0</td>\n",
       "      <td>0</td>\n",
       "      <td>0</td>\n",
       "      <td>0</td>\n",
       "      <td>0</td>\n",
       "      <td>28</td>\n",
       "      <td>0.000000</td>\n",
       "      <td>0.000000</td>\n",
       "      <td>NaN</td>\n",
       "    </tr>\n",
       "    <tr>\n",
       "      <th>1</th>\n",
       "      <td>0</td>\n",
       "      <td>0</td>\n",
       "      <td>0</td>\n",
       "      <td>0</td>\n",
       "      <td>0</td>\n",
       "      <td>0</td>\n",
       "      <td>1</td>\n",
       "      <td>27</td>\n",
       "      <td>0.000000</td>\n",
       "      <td>0.000000</td>\n",
       "      <td>NaN</td>\n",
       "    </tr>\n",
       "    <tr>\n",
       "      <th>2</th>\n",
       "      <td>0</td>\n",
       "      <td>0</td>\n",
       "      <td>0</td>\n",
       "      <td>0</td>\n",
       "      <td>0</td>\n",
       "      <td>0</td>\n",
       "      <td>2</td>\n",
       "      <td>26</td>\n",
       "      <td>0.000000</td>\n",
       "      <td>0.000000</td>\n",
       "      <td>NaN</td>\n",
       "    </tr>\n",
       "    <tr>\n",
       "      <th>3</th>\n",
       "      <td>0</td>\n",
       "      <td>0</td>\n",
       "      <td>0</td>\n",
       "      <td>0</td>\n",
       "      <td>0</td>\n",
       "      <td>0</td>\n",
       "      <td>3</td>\n",
       "      <td>25</td>\n",
       "      <td>0.000000</td>\n",
       "      <td>0.000000</td>\n",
       "      <td>NaN</td>\n",
       "    </tr>\n",
       "    <tr>\n",
       "      <th>4</th>\n",
       "      <td>0</td>\n",
       "      <td>0</td>\n",
       "      <td>0</td>\n",
       "      <td>0</td>\n",
       "      <td>0</td>\n",
       "      <td>0</td>\n",
       "      <td>4</td>\n",
       "      <td>24</td>\n",
       "      <td>0.000000</td>\n",
       "      <td>0.000000</td>\n",
       "      <td>NaN</td>\n",
       "    </tr>\n",
       "    <tr>\n",
       "      <th>...</th>\n",
       "      <td>...</td>\n",
       "      <td>...</td>\n",
       "      <td>...</td>\n",
       "      <td>...</td>\n",
       "      <td>...</td>\n",
       "      <td>...</td>\n",
       "      <td>...</td>\n",
       "      <td>...</td>\n",
       "      <td>...</td>\n",
       "      <td>...</td>\n",
       "      <td>...</td>\n",
       "    </tr>\n",
       "    <tr>\n",
       "      <th>6724515</th>\n",
       "      <td>27</td>\n",
       "      <td>0</td>\n",
       "      <td>0</td>\n",
       "      <td>0</td>\n",
       "      <td>1</td>\n",
       "      <td>0</td>\n",
       "      <td>0</td>\n",
       "      <td>0</td>\n",
       "      <td>1.000000</td>\n",
       "      <td>0.964286</td>\n",
       "      <td>0.0</td>\n",
       "    </tr>\n",
       "    <tr>\n",
       "      <th>6724516</th>\n",
       "      <td>27</td>\n",
       "      <td>0</td>\n",
       "      <td>0</td>\n",
       "      <td>1</td>\n",
       "      <td>0</td>\n",
       "      <td>0</td>\n",
       "      <td>0</td>\n",
       "      <td>0</td>\n",
       "      <td>0.964286</td>\n",
       "      <td>1.000000</td>\n",
       "      <td>NaN</td>\n",
       "    </tr>\n",
       "    <tr>\n",
       "      <th>6724517</th>\n",
       "      <td>27</td>\n",
       "      <td>0</td>\n",
       "      <td>1</td>\n",
       "      <td>0</td>\n",
       "      <td>0</td>\n",
       "      <td>0</td>\n",
       "      <td>0</td>\n",
       "      <td>0</td>\n",
       "      <td>0.964286</td>\n",
       "      <td>1.000000</td>\n",
       "      <td>NaN</td>\n",
       "    </tr>\n",
       "    <tr>\n",
       "      <th>6724518</th>\n",
       "      <td>27</td>\n",
       "      <td>1</td>\n",
       "      <td>0</td>\n",
       "      <td>0</td>\n",
       "      <td>0</td>\n",
       "      <td>0</td>\n",
       "      <td>0</td>\n",
       "      <td>0</td>\n",
       "      <td>1.000000</td>\n",
       "      <td>1.000000</td>\n",
       "      <td>NaN</td>\n",
       "    </tr>\n",
       "    <tr>\n",
       "      <th>6724519</th>\n",
       "      <td>28</td>\n",
       "      <td>0</td>\n",
       "      <td>0</td>\n",
       "      <td>0</td>\n",
       "      <td>0</td>\n",
       "      <td>0</td>\n",
       "      <td>0</td>\n",
       "      <td>0</td>\n",
       "      <td>1.000000</td>\n",
       "      <td>1.000000</td>\n",
       "      <td>NaN</td>\n",
       "    </tr>\n",
       "  </tbody>\n",
       "</table>\n",
       "<p>6724520 rows × 11 columns</p>\n",
       "</div>"
      ],
      "text/plain": [
       "          0  1  2  3  4  5  6   7        IR        GR  acc_eq\n",
       "0         0  0  0  0  0  0  0  28  0.000000  0.000000     NaN\n",
       "1         0  0  0  0  0  0  1  27  0.000000  0.000000     NaN\n",
       "2         0  0  0  0  0  0  2  26  0.000000  0.000000     NaN\n",
       "3         0  0  0  0  0  0  3  25  0.000000  0.000000     NaN\n",
       "4         0  0  0  0  0  0  4  24  0.000000  0.000000     NaN\n",
       "...      .. .. .. .. .. .. ..  ..       ...       ...     ...\n",
       "6724515  27  0  0  0  1  0  0   0  1.000000  0.964286     0.0\n",
       "6724516  27  0  0  1  0  0  0   0  0.964286  1.000000     NaN\n",
       "6724517  27  0  1  0  0  0  0   0  0.964286  1.000000     NaN\n",
       "6724518  27  1  0  0  0  0  0   0  1.000000  1.000000     NaN\n",
       "6724519  28  0  0  0  0  0  0   0  1.000000  1.000000     NaN\n",
       "\n",
       "[6724520 rows x 11 columns]"
      ]
     },
     "execution_count": 39,
     "metadata": {},
     "output_type": "execute_result"
    }
   ],
   "source": [
    "# Calculating metrics\n",
    "cm_df = load_parquet_confusion_matrix(cm_file_path)\n",
    "\n",
    "cm_df['IR'] = get_imbalance_ratio(cm_df)\n",
    "cm_df['GR'] = get_group_ratio(cm_df)\n",
    "cm_df['acc_eq'] = calculate_accuracy_equality(cm_df)\n",
    "cm_df"
   ]
  },
  {
   "cell_type": "code",
   "execution_count": 40,
   "id": "88240006-cbbf-4be4-b0d3-572fb5be8965",
   "metadata": {},
   "outputs": [
    {
     "name": "stdout",
     "output_type": "stream",
     "text": [
      "           acc_eq\n",
      "1291575  0.071429\n",
      "1291680  0.000000\n",
      "1291771 -0.071429\n",
      "1291849 -0.142857\n",
      "1291915 -0.214286\n",
      "...           ...\n",
      "6608908  0.214286\n",
      "6608913  0.071429\n",
      "6608914  0.142857\n",
      "6608916  0.000000\n",
      "6608917  0.071429\n",
      "\n",
      "[840 rows x 1 columns]\n"
     ]
    }
   ],
   "source": [
    "# Leaveing records with specific IR value\n",
    "ir_1_2 = cm_df.loc[(cm_df['IR'] == 27/28) & (cm_df['GR'] == 1/2), ['acc_eq']]\n",
    "print(ir_1_2)"
   ]
  },
  {
   "cell_type": "code",
   "execution_count": 41,
   "id": "26f9502d-49ed-42fd-bcad-c4131fc913a1",
   "metadata": {},
   "outputs": [
    {
     "name": "stdout",
     "output_type": "stream",
     "text": [
      "Number of NaN values: acc_eq    0\n",
      "dtype: int64\n"
     ]
    },
    {
     "data": {
      "image/png": "[encoded data removed]",
      "text/plain": [
       "<Figure size 500x300 with 1 Axes>"
      ]
     },
     "metadata": {},
     "output_type": "display_data"
    }
   ],
   "source": [
    "# Ploting histogram for specific IR value\n",
    "ir_1_2_nan = ir_1_2.isna().sum()\n",
    "ir_1_2.dropna(inplace=True)\n",
    "print(f\"Number of NaN values: {ir_1_2_nan}\")\n",
    "\n",
    "weights = np.ones_like(ir_1_2) / len(ir_1_2)\n",
    "\n",
    "plt.figure(figsize=(5, 3))\n",
    "plt.hist(ir_1_2, bins=51, color='black', edgecolor='black', alpha=0.7, weights=weights)\n",
    "plt.title(\"Histogram\", fontsize=14)\n",
    "plt.xlabel(\"Value of measure f\", fontsize=12)\n",
    "plt.ylabel(\"Probability\", fontsize=12)\n",
    "plt.show()"
   ]
  },
  {
   "cell_type": "markdown",
   "id": "92e9abe4-341d-4544-ae19-9d58d64bd347",
   "metadata": {},
   "source": [
    "## Memory realese"
   ]
  },
  {
   "cell_type": "code",
   "execution_count": null,
   "id": "84942eb0-acf9-401b-8502-1a3cb045041f",
   "metadata": {},
   "outputs": [],
   "source": [
    "del cm_df"
   ]
  },
  {
   "cell_type": "code",
   "execution_count": null,
   "id": "b55938e9-48e2-4991-b227-d754f66b9239",
   "metadata": {},
   "outputs": [],
   "source": []
  }
 ],
 "metadata": {
  "kernelspec": {
   "display_name": "afenv",
   "language": "python",
   "name": "afenv"
  },
  "language_info": {
   "codemirror_mode": {
    "name": "ipython",
    "version": 3
   },
   "file_extension": ".py",
   "mimetype": "text/x-python",
   "name": "python",
   "nbconvert_exporter": "python",
   "pygments_lexer": "ipython3",
   "version": "3.12.2"
  }
 },
 "nbformat": 4,
 "nbformat_minor": 5
}
